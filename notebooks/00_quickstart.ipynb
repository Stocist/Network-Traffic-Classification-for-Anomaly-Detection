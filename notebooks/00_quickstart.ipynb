{
  "cells": [
    {
      "cell_type": "markdown",
      "metadata": {},
      "source": [
        "# Quickstart: Environment & Data Verification\n",
        "\n",
        "This notebook verifies the project environment, checks for processed datasets, and provides quick previews of training artifacts. It ensures reproducibility and helps evaluators confirm that all preprocessing steps have completed successfully.\n",
        "\n",
        "**Purpose:**\n",
        "- Verify Python and library versions\n",
        "- Confirm processed datasets exist and are non-empty\n",
        "- Preview dataset schemas and basic statistics\n",
        "- List recent model training runs\n",
        "- Link to detailed EDA and analysis notebooks\n"
      ]
    },
    {
      "cell_type": "markdown",
      "metadata": {},
      "source": [
        "## 1. Environment Information\n"
      ]
    },
    {
      "cell_type": "code",
      "execution_count": null,
      "metadata": {},
      "outputs": [],
      "source": [
        "import sys\n",
        "import pandas as pd\n",
        "import numpy as np\n",
        "import sklearn\n",
        "from pathlib import Path\n",
        "import json\n",
        "\n",
        "print(f\"Python version: {sys.version}\")\n",
        "print(f\"pandas version: {pd.__version__}\")\n",
        "print(f\"numpy version: {np.__version__}\")\n",
        "print(f\"scikit-learn version: {sklearn.__version__}\")\n",
        "\n",
        "try:\n",
        "    import xgboost\n",
        "    print(f\"xgboost version: {xgboost.__version__}\")\n",
        "except ImportError:\n",
        "    print(\"xgboost: not installed (optional)\")\n",
        "\n",
        "try:\n",
        "    import imblearn\n",
        "    print(f\"imbalanced-learn version: {imblearn.__version__}\")\n",
        "except ImportError:\n",
        "    print(\"imbalanced-learn: not installed (optional)\")\n"
      ]
    }
  ],
  "metadata": {
    "language_info": {
      "name": "python"
    }
  },
  "nbformat": 4,
  "nbformat_minor": 2
}
