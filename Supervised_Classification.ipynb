{
 "cells": [
  {
   "cell_type": "markdown",
   "id": "11664896",
   "metadata": {},
   "source": [
    "# Supervised Classification on Processed Flow Data\n",
    "\n",
    "This notebook trains baseline models on the preprocessed flow features saved in `processed_data/`. It mirrors the CLI script but keeps everything in an interactive workflow."
   ]
  },
  {
   "cell_type": "code",
   "execution_count": 5,
   "id": "1470db27",
   "metadata": {},
   "outputs": [],
   "source": [
    "import pandas as pd\n",
    "import numpy as np\n",
    "from pathlib import Path\n",
    "\n",
    "from sklearn.linear_model import LogisticRegression\n",
    "from xgboost import XGBClassifier\n",
    "from sklearn.metrics import accuracy_score, classification_report, confusion_matrix\n",
    "\n",
    "DATA_DIR = Path('processed_data')\n",
    "X_TRAIN_PATH = DATA_DIR / 'X_train_processed.csv'\n",
    "X_TEST_PATH = DATA_DIR / 'X_test_processed.csv'\n",
    "Y_TRAIN_PATH = DATA_DIR / 'y_train_processed.csv'\n",
    "Y_TEST_PATH = DATA_DIR / 'y_test_processed.csv'\n",
    "\n",
    "MAX_ITER = 60  # adjust if the logistic models need more steps to converge\n",
    "\n",
    "TRAIN_FRAC = 1.0  # fraction of training rows to use (1.0 keeps all)\n",
    "TEST_FRAC = 1.0   # fraction of test rows to use (keep full set for evaluation)\n",
    "RANDOM_STATE = 42"
   ]
  },
  {
   "cell_type": "code",
   "execution_count": 6,
   "id": "ea693ef9",
   "metadata": {},
   "outputs": [
    {
     "name": "stdout",
     "output_type": "stream",
     "text": [
      "Loaded:\n",
      "  X_train: (429795, 240) | y_train distribution:category\n",
      "Normal    85959\n",
      "DoS       85959\n",
      "Probe     85959\n",
      "U2R       85959\n",
      "R2L       85959\n",
      "Name: count, dtype: int64\n",
      "  X_test:  (56773, 240) | y_test distribution:category\n",
      "Normal    21490\n",
      "Probe     17545\n",
      "DoS       16892\n",
      "R2L         507\n",
      "U2R         339\n",
      "Name: count, dtype: int64\n"
     ]
    }
   ],
   "source": [
    "def _subsample(X, y, frac, seed, split):\n",
    "    if frac >= 1.0:\n",
    "        return X.reset_index(drop=True), y.reset_index(drop=True)\n",
    "    sampled_idx = X.sample(frac=frac, random_state=seed).index\n",
    "    X_sub = X.loc[sampled_idx].reset_index(drop=True)\n",
    "    y_sub = y.loc[sampled_idx].reset_index(drop=True)\n",
    "    print(f'{split.title()} subset: {len(X_sub):,} rows (fraction={frac})')\n",
    "    return X_sub, y_sub\n",
    "\n",
    "\n",
    "def load_dataset():\n",
    "    X_train = pd.read_csv(X_TRAIN_PATH)\n",
    "    X_test = pd.read_csv(X_TEST_PATH)\n",
    "    y_train = pd.read_csv(Y_TRAIN_PATH)['category']\n",
    "    y_test = pd.read_csv(Y_TEST_PATH)['category']\n",
    "\n",
    "    X_train, y_train = _subsample(X_train, y_train, TRAIN_FRAC, RANDOM_STATE, 'train')\n",
    "    X_test, y_test = _subsample(X_test, y_test, TEST_FRAC, RANDOM_STATE, 'test')\n",
    "\n",
    "    print('Loaded:')\n",
    "    print(f'  X_train: {X_train.shape} | y_train distribution:{y_train.value_counts()}')\n",
    "    print(f'  X_test:  {X_test.shape} | y_test distribution:{y_test.value_counts()}')\n",
    "    return X_train, X_test, y_train, y_test\n",
    "\n",
    "\n",
    "X_train, X_test, y_train, y_test = load_dataset()\n"
   ]
  },
  {
   "cell_type": "markdown",
   "id": "17c48274",
   "metadata": {},
   "source": [
    "## Binary Classification (Normal vs Attack)"
   ]
  },
  {
   "cell_type": "code",
   "execution_count": 7,
   "id": "6c4fc981",
   "metadata": {},
   "outputs": [
    {
     "name": "stderr",
     "output_type": "stream",
     "text": [
      "c:\\Users\\user\\AppData\\Local\\Programs\\Python\\Python312\\Lib\\site-packages\\sklearn\\linear_model\\_sag.py:348: ConvergenceWarning: The max_iter was reached which means the coef_ did not converge\n",
      "  warnings.warn(\n"
     ]
    },
    {
     "name": "stdout",
     "output_type": "stream",
     "text": [
      "Binary accuracy: 0.7281806492522854\n",
      "Binary classification report:\n",
      "              precision    recall  f1-score   support\n",
      "\n",
      "      Normal       0.91      0.62      0.74     35283\n",
      "      Attack       0.59      0.90      0.72     21490\n",
      "\n",
      "    accuracy                           0.73     56773\n",
      "   macro avg       0.75      0.76      0.73     56773\n",
      "weighted avg       0.79      0.73      0.73     56773\n",
      "\n",
      "Confusion matrix:\n",
      "[[19406  2084]\n",
      " [13348 21935]]\n"
     ]
    }
   ],
   "source": [
    "y_train_binary = np.where(y_train == 'Normal', 'Normal', 'Attack')\n",
    "y_test_binary = np.where(y_test == 'Normal', 'Normal', 'Attack')\n",
    "\n",
    "logreg_bin = LogisticRegression(\n",
    "    solver='saga',\n",
    "    penalty='l2',\n",
    "    C=1.0,\n",
    "    class_weight='balanced',\n",
    "    max_iter=MAX_ITER,\n",
    "    n_jobs=-1,\n",
    "    verbose=0,\n",
    ")\n",
    "\n",
    "logreg_bin.fit(X_train, y_train_binary)\n",
    "logreg_bin_preds = logreg_bin.predict(X_test)\n",
    "print('Binary accuracy:', accuracy_score(y_test_binary, logreg_bin_preds))\n",
    "print('Binary classification report:')\n",
    "print(classification_report(y_test_binary, logreg_bin_preds, target_names=['Normal', 'Attack']))\n",
    "print('Confusion matrix:')\n",
    "print(confusion_matrix(y_test_binary, logreg_bin_preds, labels=['Normal', 'Attack']))"
   ]
  },
  {
   "cell_type": "markdown",
   "id": "9337aed5",
   "metadata": {},
   "source": [
    "## Multiclass Classification"
   ]
  },
  {
   "cell_type": "code",
   "execution_count": 8,
   "id": "c9ff3e5c",
   "metadata": {},
   "outputs": [
    {
     "name": "stderr",
     "output_type": "stream",
     "text": [
      "c:\\Users\\user\\AppData\\Local\\Programs\\Python\\Python312\\Lib\\site-packages\\sklearn\\linear_model\\_logistic.py:1272: FutureWarning: 'multi_class' was deprecated in version 1.5 and will be removed in 1.8. From then on, it will always use 'multinomial'. Leave it to its default value to avoid this warning.\n",
      "  warnings.warn(\n",
      "c:\\Users\\user\\AppData\\Local\\Programs\\Python\\Python312\\Lib\\site-packages\\sklearn\\linear_model\\_sag.py:348: ConvergenceWarning: The max_iter was reached which means the coef_ did not converge\n",
      "  warnings.warn(\n"
     ]
    },
    {
     "name": "stdout",
     "output_type": "stream",
     "text": [
      "Multiclass accuracy: 0.4646574956405333\n",
      "Multiclass classification report:\n",
      "              precision    recall  f1-score   support\n",
      "\n",
      "         DoS       0.99      0.76      0.86     16892\n",
      "      Normal       0.83      0.38      0.52     21490\n",
      "       Probe       0.58      0.27      0.37     17545\n",
      "         R2L       0.05      0.78      0.09       507\n",
      "         U2R       0.02      0.90      0.03       339\n",
      "\n",
      "    accuracy                           0.46     56773\n",
      "   macro avg       0.49      0.62      0.37     56773\n",
      "weighted avg       0.79      0.46      0.57     56773\n",
      "\n",
      "Confusion matrix:\n",
      "[[12907   583   579  2468   355]\n",
      " [   24  8064  2752   810  9840]\n",
      " [  116  1032  4709  4514  7174]\n",
      " [    0    52    14   394    47]\n",
      " [    0     0    33     0   306]]\n"
     ]
    }
   ],
   "source": [
    "logreg_multi = LogisticRegression(\n",
    "    multi_class='multinomial',\n",
    "    solver='saga',\n",
    "    penalty='l2',\n",
    "    C=1.0,\n",
    "    class_weight='balanced',\n",
    "    max_iter=MAX_ITER,\n",
    "    n_jobs=-1,\n",
    "    verbose=0,\n",
    ")\n",
    "\n",
    "logreg_multi.fit(X_train, y_train)\n",
    "logreg_multi_preds = logreg_multi.predict(X_test)\n",
    "print('Multiclass accuracy:', accuracy_score(y_test, logreg_multi_preds))\n",
    "print('Multiclass classification report:')\n",
    "print(classification_report(y_test, logreg_multi_preds, target_names=sorted(y_train.unique())))\n",
    "print('Confusion matrix:')\n",
    "print(confusion_matrix(y_test, logreg_multi_preds, labels=sorted(y_train.unique())))"
   ]
  },
  {
   "cell_type": "markdown",
   "id": "f1e30c38",
   "metadata": {},
   "source": [
    "## Optional: XGBoost on Binary Task"
   ]
  },
  {
   "cell_type": "code",
   "execution_count": null,
   "id": "f82fd127",
   "metadata": {},
   "outputs": [],
   "source": [
    "xgb_bin = XGBClassifier(\n",
    "    n_estimators=400,\n",
    "    max_depth=6,\n",
    "    learning_rate=0.1,\n",
    "    subsample=0.8,\n",
    "    colsample_bytree=0.8,\n",
    "    objective='binary:logistic',\n",
    "    eval_metric='logloss',\n",
    "    tree_method='hist',\n",
    "    random_state=42,\n",
    "    n_jobs=-1,\n",
    "    use_label_encoder=False,\n",
    ")\n",
    "\n",
    "# Convert labels to numeric encoding expected by XGBoost\n",
    "y_train_bin_num = (y_train_binary == 'Attack').astype(int)\n",
    "y_test_bin_num = (y_test_binary == 'Attack').astype(int)\n",
    "\n",
    "xgb_bin.fit(X_train, y_train_bin_num)\n",
    "xgb_preds_num = xgb_bin.predict(X_test)\n",
    "\n",
    "print('XGBoost binary accuracy:', accuracy_score(y_test_bin_num, xgb_preds_num))\n",
    "print('XGBoost binary classification report:')\n",
    "print(classification_report(y_test_bin_num, xgb_preds_num, target_names=['Normal', 'Attack']))\n",
    "print('Confusion matrix:')\n",
    "print(confusion_matrix(y_test_bin_num, xgb_preds_num))\n"
   ]
  }
 ],
 "metadata": {
  "kernelspec": {
   "display_name": "Python 3",
   "language": "python",
   "name": "python3"
  },
  "language_info": {
   "codemirror_mode": {
    "name": "ipython",
    "version": 3
   },
   "file_extension": ".py",
   "mimetype": "text/x-python",
   "name": "python",
   "nbconvert_exporter": "python",
   "pygments_lexer": "ipython3",
   "version": "3.12.5"
  }
 },
 "nbformat": 4,
 "nbformat_minor": 5
}
